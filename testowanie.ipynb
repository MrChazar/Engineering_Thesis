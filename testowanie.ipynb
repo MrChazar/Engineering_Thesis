{
 "cells": [
  {
   "metadata": {
    "ExecuteTime": {
     "end_time": "2025-06-15T11:22:22.103922Z",
     "start_time": "2025-06-15T11:22:22.081047Z"
    }
   },
   "cell_type": "code",
   "source": [
    "items_values = {\"⚽️\": 8, \"💻\": 47, \"📸\": 10, \"📚\": 5, \"🎸\": 16}\n",
    "values_list = [8, 47, 10, 5, 16]\n",
    "\n",
    "items_weight = {\"⚽️\": 3, \"💻\": 11, \"📸\": 14, \"📚\": 19, \"🎸\": 5}\n",
    "weights_list = [3, 11, 14, 19, 5]\n",
    "maximum_weight = 26"
   ],
   "id": "90047e1ac0564e0c",
   "outputs": [],
   "execution_count": 1
  },
  {
   "metadata": {
    "ExecuteTime": {
     "end_time": "2025-06-15T11:23:41.068377Z",
     "start_time": "2025-06-15T11:23:41.059865Z"
    }
   },
   "cell_type": "code",
   "source": [
    "import numpy as np\n",
    "Q = -np.diag(list(items_values.values()))  # Matrix Q for the problem above.\n",
    "x_opt = np.array(\n",
    "    [[1 if i in optimal_solution[\"items\"] else 0] for i in items_values.keys()]\n",
    ")  # Optimal solution.\n",
    "opt_str = \"\".join(str(i[0]) for i in x_opt)\n",
    "print(opt_str)\n",
    "min_cost = (x_opt.T @ Q @ x_opt)[0, 0]  # using Equation 3 above\n",
    "print(f\"Q={Q}\")\n",
    "print(f\"The minimum cost is  {min_cost}\")"
   ],
   "id": "1d69e1d9e4eddd3e",
   "outputs": [
    {
     "name": "stdout",
     "output_type": "stream",
     "text": [
      "11001\n",
      "Q=[[ -8   0   0   0   0]\n",
      " [  0 -47   0   0   0]\n",
      " [  0   0 -10   0   0]\n",
      " [  0   0   0  -5   0]\n",
      " [  0   0   0   0 -16]]\n",
      "The minimum cost is  -71\n"
     ]
    }
   ],
   "execution_count": 4
  },
  {
   "metadata": {
    "ExecuteTime": {
     "end_time": "2025-06-15T11:24:11.339304Z",
     "start_time": "2025-06-15T11:24:11.328988Z"
    }
   },
   "cell_type": "code",
   "source": [
    "N = round(np.ceil(np.log2(maximum_weight)))\n",
    "print(N)\n",
    "weights = list(items_weight.values()) + [2**k for k in range(N)]\n",
    "\n",
    "QT = np.pad(Q, ((0, N), (0, N)))  # adding the extra slack variables at the end of the Q matrix\n",
    "n_qubits = len(QT)\n",
    "lambd = 2  # We choose a lambda parameter enough large for the constraint to always be fulfilled\n",
    "# Adding the terms for the penalty term\n",
    "for i in range(len(QT)):\n",
    "    QT[i, i] += lambd * weights[i] * (weights[i] - 2 * maximum_weight)  # Eq. 10\n",
    "    for j in range(i + 1, len(QT)):\n",
    "        QT[i, j] += 2 * lambd * weights[i] * weights[j]  # Eq. 9\n",
    "offset = lambd * maximum_weight**2\n",
    "print(f\"Q={QT}\")\n",
    "# optimal string slack string\n",
    "slack_string = np.binary_repr(maximum_weight - optimal_solution[\"weight\"], N)[::-1]\n",
    "x_opt_slack = np.concatenate(\n",
    "    (x_opt, np.array([[int(i)] for i in slack_string]))\n",
    ")  # combining the optimal string and slack string\n",
    "opt_str_slack = \"\".join(str(i[0]) for i in x_opt_slack)\n",
    "cost = (x_opt_slack.T @ QT @ x_opt_slack)[0, 0] + offset  # Optimal cost using equation 3\n",
    "print(f\"Cost:{cost}\")\n",
    "\n",
    "# At this point, we have encoded the problem in a format that we can use to solve it on quantum\n",
    "# computers. Now it only remains to solve it using quantum algorithms!"
   ],
   "id": "541fc98d684b5022",
   "outputs": [
    {
     "name": "stdout",
     "output_type": "stream",
     "text": [
      "5\n",
      "Q=[[ -302   132   168   228    60    12    24    48    96   192]\n",
      " [    0  -949   616   836   220    44    88   176   352   704]\n",
      " [    0     0 -1074  1064   280    56   112   224   448   896]\n",
      " [    0     0     0 -1259   380    76   152   304   608  1216]\n",
      " [    0     0     0     0  -486    20    40    80   160   320]\n",
      " [    0     0     0     0     0  -102     8    16    32    64]\n",
      " [    0     0     0     0     0     0  -200    32    64   128]\n",
      " [    0     0     0     0     0     0     0  -384   128   256]\n",
      " [    0     0     0     0     0     0     0     0  -704   512]\n",
      " [    0     0     0     0     0     0     0     0     0 -1152]]\n",
      "Cost:-71\n"
     ]
    }
   ],
   "execution_count": 5
  },
  {
   "metadata": {
    "ExecuteTime": {
     "end_time": "2025-06-14T20:53:35.502715Z",
     "start_time": "2025-06-14T20:53:31.750417Z"
    }
   },
   "cell_type": "code",
   "source": [
    "# -----------------------------   QAOA circuit ------------------------------------\n",
    "from collections import defaultdict\n",
    "import pennylane as qml\n",
    "\n",
    "shots = 5000  # Number of samples used\n",
    "dev = qml.device(\"default.qubit\", shots=shots)\n",
    "\n",
    "\n",
    "@qml.qnode(dev)\n",
    "def qaoa_circuit(gammas, betas, h, J, num_qubits):\n",
    "    wmax = max(\n",
    "        np.max(np.abs(list(h.values()))), np.max(np.abs(list(h.values())))\n",
    "    )  # Normalizing the Hamiltonian is a good idea\n",
    "    p = len(gammas)\n",
    "    # Apply the initial layer of Hadamard gates to all qubits\n",
    "    for i in range(num_qubits):\n",
    "        qml.Hadamard(wires=i)\n",
    "    # repeat p layers the circuit shown in Fig. 1\n",
    "    for layer in range(p):\n",
    "        # ---------- COST HAMILTONIAN ----------\n",
    "        for ki, v in h.items():  # single-qubit terms\n",
    "            qml.RZ(2 * gammas[layer] * v / wmax, wires=ki[0])\n",
    "        for kij, vij in J.items():  # two-qubit terms\n",
    "            qml.CNOT(wires=[kij[0], kij[1]])\n",
    "            qml.RZ(2 * gammas[layer] * vij / wmax, wires=kij[1])\n",
    "            qml.CNOT(wires=[kij[0], kij[1]])\n",
    "        # ---------- MIXER HAMILTONIAN ----------\n",
    "        for i in range(num_qubits):\n",
    "            qml.RX(-2 * betas[layer], wires=i)\n",
    "    return qml.sample()\n",
    "\n",
    "\n",
    "def samples_dict(samples, n_items):\n",
    "    \"\"\"Just sorting the outputs in a dictionary\"\"\"\n",
    "    results = defaultdict(int)\n",
    "    for sample in samples:\n",
    "        results[\"\".join(str(i) for i in sample)[:n_items]] += 1\n",
    "    return results"
   ],
   "id": "921112681791bd0a",
   "outputs": [],
   "execution_count": 14
  },
  {
   "metadata": {
    "ExecuteTime": {
     "end_time": "2025-06-14T20:53:37.132547Z",
     "start_time": "2025-06-14T20:53:36.906987Z"
    }
   },
   "cell_type": "code",
   "source": [
    "import matplotlib.pyplot as plt\n",
    "# Annealing schedule for QAOA\n",
    "betas = np.linspace(0, 1, 10)[::-1]  # Parameters for the mixer Hamiltonian\n",
    "gammas = np.linspace(0, 1, 10)  # Parameters for the cost Hamiltonian (Our Knapsack problem)\n",
    "\n",
    "fig, ax = plt.subplots()\n",
    "ax.plot(betas, label=r\"$\\beta_i$\", marker=\"o\", markersize=8, markeredgecolor=\"black\")\n",
    "ax.plot(gammas, label=r\"$\\gamma_i$\", marker=\"o\", markersize=8, markeredgecolor=\"black\")\n",
    "ax.set_xlabel(\"i\", fontsize=18)\n",
    "ax.legend()\n",
    "fig.show()"
   ],
   "id": "2d607622c72c6924",
   "outputs": [
    {
     "name": "stderr",
     "output_type": "stream",
     "text": [
      "C:\\Users\\jakub\\AppData\\Local\\Temp\\ipykernel_16876\\829091235.py:11: UserWarning: FigureCanvasAgg is non-interactive, and thus cannot be shown\n",
      "  fig.show()\n"
     ]
    },
    {
     "data": {
      "text/plain": [
       "<Figure size 640x480 with 1 Axes>"
      ],
      "image/png": "[encoded data removed]"
     },
     "metadata": {},
     "output_type": "display_data"
    }
   ],
   "execution_count": 15
  },
  {
   "metadata": {
    "ExecuteTime": {
     "end_time": "2025-06-14T20:53:44.669314Z",
     "start_time": "2025-06-14T20:53:44.375390Z"
    }
   },
   "cell_type": "code",
   "source": [
    "def from_Q_to_Ising(Q, offset):\n",
    "    \"\"\"Convert the matrix Q of Eq.3 into Eq.13 elements J and h\"\"\"\n",
    "    n_qubits = len(Q)  # Get the number of qubits (variables) in the QUBO matrix\n",
    "    # Create default dictionaries to store h and pairwise interactions J\n",
    "    h = defaultdict(int)\n",
    "    J = defaultdict(int)\n",
    "\n",
    "    # Loop over each qubit (variable) in the QUBO matrix\n",
    "    for i in range(n_qubits):\n",
    "        # Update the magnetic field for qubit i based on its diagonal element in Q\n",
    "        h[(i,)] -= Q[i, i] / 2\n",
    "        # Update the offset based on the diagonal element in Q\n",
    "        offset += Q[i, i] / 2\n",
    "        # Loop over other qubits (variables) to calculate pairwise interactions\n",
    "        for j in range(i + 1, n_qubits):\n",
    "            # Update the pairwise interaction strength (J) between qubits i and j\n",
    "            J[(i, j)] += Q[i, j] / 4\n",
    "            # Update the magnetic fields for qubits i and j based on their interactions in Q\n",
    "            h[(i,)] -= Q[i, j] / 4\n",
    "            h[(j,)] -= Q[i, j] / 4\n",
    "            # Update the offset based on the interaction strength between qubits i and j\n",
    "            offset += Q[i, j] / 4\n",
    "    # Return the magnetic fields, pairwise interactions, and the updated offset\n",
    "    return h, J, offset\n",
    "\n",
    "\n",
    "def energy_Ising(z, h, J, offset):\n",
    "    \"\"\"\n",
    "    Calculate the energy of an Ising model given spin configurations.\n",
    "\n",
    "    Parameters:\n",
    "    - z: A dictionary representing the spin configurations for each qubit.\n",
    "    - h: A dictionary representing the magnetic fields for each qubit.\n",
    "    - J: A dictionary representing the pairwise interactions between qubits.\n",
    "    - offset: An offset value.\n",
    "\n",
    "    Returns:\n",
    "    - energy: The total energy of the Ising model.\n",
    "    \"\"\"\n",
    "    if isinstance(z, str):\n",
    "        z = [(1 if int(i) == 0 else -1) for i in z]\n",
    "    # Initialize the energy with the offset term\n",
    "    energy = offset\n",
    "    # Loop over the magnetic fields (h) for each qubit and update the energy\n",
    "    for k, v in h.items():\n",
    "        energy += v * z[k[0]]\n",
    "    # Loop over the pairwise interactions (J) between qubits and update the energy\n",
    "    for k, v in J.items():\n",
    "        energy += v * z[k[0]] * z[k[1]]\n",
    "    # Return the total energy of the Ising model\n",
    "    return energy\n",
    "\n",
    "\n",
    "# Our previous example should give us the same result\n",
    "z_exp = [\n",
    "    (1 if i == 0 else -1) for i in x_opt_slack\n",
    "]  # Converting the optimal solution from (0,1) to (1, -1)\n",
    "h, J, zoffset = from_Q_to_Ising(QT, offset)  # Eq.13 for our problem\n",
    "energy = energy_Ising(\n",
    "    z_exp, h, J, zoffset\n",
    ")  # Caluclating the energy (Should be the same that for the QUBO)\n",
    "print(f\"Minimum energy:{energy}\")\n",
    "\n",
    "samples_slack = samples_dict(qaoa_circuit(gammas, betas, h, J, num_qubits=len(QT)), n_qubits)\n",
    "values_slack = {\n",
    "    sum_values(sample_i, values_list): count\n",
    "    for sample_i, count in samples_slack.items()\n",
    "    if sum_weight(sample_i, weights_list) <= maximum_weight\n",
    "}  # saving only the solutions that fulfill the constraint\n",
    "print(\n",
    "    f\"The number of optimal solutions using slack variables is {samples_slack[opt_str_slack]} out of {shots}\"\n",
    ")"
   ],
   "id": "ce0003bbf57940ff",
   "outputs": [
    {
     "name": "stdout",
     "output_type": "stream",
     "text": [
      "Minimum energy:-71.0\n",
      "The number of optimal solutions using slack variables is 19 out of 5000\n"
     ]
    }
   ],
   "execution_count": 16
  },
  {
   "metadata": {
    "ExecuteTime": {
     "end_time": "2025-06-14T20:53:49.553723Z",
     "start_time": "2025-06-14T20:53:49.268925Z"
    }
   },
   "cell_type": "code",
   "source": [
    "from openqaoa.problems import FromDocplex2IsingModel\n",
    "from docplex.mp.model import Model\n",
    "\n",
    "\n",
    "def Knapsack(values, weights, maximum_weight):\n",
    "    \"\"\"Create a docplex model of the problem. (Docplex is a classical solver from IBM)\"\"\"\n",
    "    n_items = len(values)\n",
    "    mdl = Model()\n",
    "    x = mdl.binary_var_list(range(n_items), name=\"x\")\n",
    "    cost = -mdl.sum(x[i] * values[i] for i in range(n_items))\n",
    "    mdl.minimize(cost)\n",
    "    mdl.add_constraint(mdl.sum(x[i] * weights[i] for i in range(n_items)) <= maximum_weight)\n",
    "    return mdl\n",
    "\n",
    "\n",
    "# Docplex model, we need to convert our problem in this format to use the unbalanced penalization approach\n",
    "mdl = Knapsack(values_list, weights_list, maximum_weight)\n",
    "lambda_1, lambda_2 = (\n",
    "    0.96,\n",
    "    0.0371,\n",
    ")  # Parameters of the unbalanced penalization function (They are in the main paper)\n",
    "ising_hamiltonian = FromDocplex2IsingModel(\n",
    "    mdl,\n",
    "    unbalanced_const=True,\n",
    "    strength_ineq=[lambda_1, lambda_2],  # https://arxiv.org/abs/2211.13914\n",
    ").ising_model\n",
    "\n",
    "h_new = {\n",
    "    tuple(i): w for i, w in zip(ising_hamiltonian.terms, ising_hamiltonian.weights) if len(i) == 1\n",
    "}\n",
    "J_new = {\n",
    "    tuple(i): w for i, w in zip(ising_hamiltonian.terms, ising_hamiltonian.weights) if len(i) == 2\n",
    "}\n",
    "\n",
    "samples_unbalanced = samples_dict(\n",
    "    qaoa_circuit(gammas, betas, h_new, J_new, num_qubits=n_items), n_items\n",
    ")\n",
    "values_unbalanced = {\n",
    "    sum_values(sample_i, values_list): count\n",
    "    for sample_i, count in samples_unbalanced.items()\n",
    "    if sum_weight(sample_i, weights_list) <= maximum_weight\n",
    "}  # saving only the solutions that fulfill the constraint\n",
    "\n",
    "print(\n",
    "    f\"The number of solutions using unbalanced penalization is {samples_unbalanced[opt_str]} out of {shots}\"\n",
    ")"
   ],
   "id": "b040a9fc9f5e26cd",
   "outputs": [
    {
     "ename": "ModuleNotFoundError",
     "evalue": "No module named 'openqaoa'",
     "output_type": "error",
     "traceback": [
      "\u001B[1;31m---------------------------------------------------------------------------\u001B[0m",
      "\u001B[1;31mModuleNotFoundError\u001B[0m                       Traceback (most recent call last)",
      "Cell \u001B[1;32mIn[17], line 1\u001B[0m\n\u001B[1;32m----> 1\u001B[0m \u001B[38;5;28;01mfrom\u001B[39;00m\u001B[38;5;250m \u001B[39m\u001B[38;5;21;01mopenqaoa\u001B[39;00m\u001B[38;5;21;01m.\u001B[39;00m\u001B[38;5;21;01mproblems\u001B[39;00m\u001B[38;5;250m \u001B[39m\u001B[38;5;28;01mimport\u001B[39;00m FromDocplex2IsingModel\n\u001B[0;32m      2\u001B[0m \u001B[38;5;28;01mfrom\u001B[39;00m\u001B[38;5;250m \u001B[39m\u001B[38;5;21;01mdocplex\u001B[39;00m\u001B[38;5;21;01m.\u001B[39;00m\u001B[38;5;21;01mmp\u001B[39;00m\u001B[38;5;21;01m.\u001B[39;00m\u001B[38;5;21;01mmodel\u001B[39;00m\u001B[38;5;250m \u001B[39m\u001B[38;5;28;01mimport\u001B[39;00m Model\n\u001B[0;32m      5\u001B[0m \u001B[38;5;28;01mdef\u001B[39;00m\u001B[38;5;250m \u001B[39m\u001B[38;5;21mKnapsack\u001B[39m(values, weights, maximum_weight):\n",
      "\u001B[1;31mModuleNotFoundError\u001B[0m: No module named 'openqaoa'"
     ]
    }
   ],
   "execution_count": 17
  },
  {
   "metadata": {
    "ExecuteTime": {
     "end_time": "2025-06-14T20:52:49.348027Z",
     "start_time": "2025-06-14T20:52:49.072769Z"
    }
   },
   "cell_type": "code",
   "source": [
    "fig, ax = plt.subplots()\n",
    "ax.hist(\n",
    "    values_unbalanced.keys(),\n",
    "    weights=values_unbalanced.values(),\n",
    "    bins=50,\n",
    "    edgecolor=\"black\",\n",
    "    label=\"unbalanced\",\n",
    "    align=\"right\",\n",
    ")\n",
    "ax.hist(\n",
    "    values_slack.keys(),\n",
    "    weights=values_slack.values(),\n",
    "    bins=50,\n",
    "    edgecolor=\"black\",\n",
    "    label=\"slack\",\n",
    "    align=\"left\",\n",
    ")\n",
    "ax.vlines(-min_cost, 0, 3000, linestyle=\"--\", color=\"black\", label=\"Optimal\", linewidth=2)\n",
    "ax.set_yscale(\"log\")\n",
    "ax.legend()\n",
    "ax.set_ylabel(\"counts\")\n",
    "ax.set_xlabel(\"values\")\n",
    "fig.show()"
   ],
   "id": "698794e512fd7362",
   "outputs": [
    {
     "ename": "NameError",
     "evalue": "name 'values_unbalanced' is not defined",
     "output_type": "error",
     "traceback": [
      "\u001B[1;31m---------------------------------------------------------------------------\u001B[0m",
      "\u001B[1;31mNameError\u001B[0m                                 Traceback (most recent call last)",
      "Cell \u001B[1;32mIn[11], line 3\u001B[0m\n\u001B[0;32m      1\u001B[0m fig, ax \u001B[38;5;241m=\u001B[39m plt\u001B[38;5;241m.\u001B[39msubplots()\n\u001B[0;32m      2\u001B[0m ax\u001B[38;5;241m.\u001B[39mhist(\n\u001B[1;32m----> 3\u001B[0m     \u001B[43mvalues_unbalanced\u001B[49m\u001B[38;5;241m.\u001B[39mkeys(),\n\u001B[0;32m      4\u001B[0m     weights\u001B[38;5;241m=\u001B[39mvalues_unbalanced\u001B[38;5;241m.\u001B[39mvalues(),\n\u001B[0;32m      5\u001B[0m     bins\u001B[38;5;241m=\u001B[39m\u001B[38;5;241m50\u001B[39m,\n\u001B[0;32m      6\u001B[0m     edgecolor\u001B[38;5;241m=\u001B[39m\u001B[38;5;124m\"\u001B[39m\u001B[38;5;124mblack\u001B[39m\u001B[38;5;124m\"\u001B[39m,\n\u001B[0;32m      7\u001B[0m     label\u001B[38;5;241m=\u001B[39m\u001B[38;5;124m\"\u001B[39m\u001B[38;5;124munbalanced\u001B[39m\u001B[38;5;124m\"\u001B[39m,\n\u001B[0;32m      8\u001B[0m     align\u001B[38;5;241m=\u001B[39m\u001B[38;5;124m\"\u001B[39m\u001B[38;5;124mright\u001B[39m\u001B[38;5;124m\"\u001B[39m,\n\u001B[0;32m      9\u001B[0m )\n\u001B[0;32m     10\u001B[0m ax\u001B[38;5;241m.\u001B[39mhist(\n\u001B[0;32m     11\u001B[0m     values_slack\u001B[38;5;241m.\u001B[39mkeys(),\n\u001B[0;32m     12\u001B[0m     weights\u001B[38;5;241m=\u001B[39mvalues_slack\u001B[38;5;241m.\u001B[39mvalues(),\n\u001B[1;32m   (...)\u001B[0m\n\u001B[0;32m     16\u001B[0m     align\u001B[38;5;241m=\u001B[39m\u001B[38;5;124m\"\u001B[39m\u001B[38;5;124mleft\u001B[39m\u001B[38;5;124m\"\u001B[39m,\n\u001B[0;32m     17\u001B[0m )\n\u001B[0;32m     18\u001B[0m ax\u001B[38;5;241m.\u001B[39mvlines(\u001B[38;5;241m-\u001B[39mmin_cost, \u001B[38;5;241m0\u001B[39m, \u001B[38;5;241m3000\u001B[39m, linestyle\u001B[38;5;241m=\u001B[39m\u001B[38;5;124m\"\u001B[39m\u001B[38;5;124m--\u001B[39m\u001B[38;5;124m\"\u001B[39m, color\u001B[38;5;241m=\u001B[39m\u001B[38;5;124m\"\u001B[39m\u001B[38;5;124mblack\u001B[39m\u001B[38;5;124m\"\u001B[39m, label\u001B[38;5;241m=\u001B[39m\u001B[38;5;124m\"\u001B[39m\u001B[38;5;124mOptimal\u001B[39m\u001B[38;5;124m\"\u001B[39m, linewidth\u001B[38;5;241m=\u001B[39m\u001B[38;5;241m2\u001B[39m)\n",
      "\u001B[1;31mNameError\u001B[0m: name 'values_unbalanced' is not defined"
     ]
    },
    {
     "data": {
      "text/plain": [
       "<Figure size 640x480 with 1 Axes>"
      ],
      "image/png": "[encoded data removed]"
     },
     "metadata": {},
     "output_type": "display_data"
    }
   ],
   "execution_count": 11
  },
  {
   "metadata": {
    "ExecuteTime": {
     "end_time": "2025-06-14T20:52:58.562251Z",
     "start_time": "2025-06-14T20:52:58.473456Z"
    }
   },
   "cell_type": "code",
   "source": [
    "from dwave.system import DWaveSampler, EmbeddingComposite\n",
    "from dwave.cloud import Client\n",
    "import dimod\n",
    "import pandas as pd\n",
    "\n",
    "bqm = {}\n",
    "# BQM - Binary Quadratic Model\n",
    "# This creates the QUBO model of our Knapsack problem using the slack variables approach\n",
    "# offset is the constant term in our QUBO formulation\n",
    "# ----------- SLACK METHOD -----------\n",
    "bqm[\"slack\"] = dimod.BQM.from_qubo(QT, offset=lambd * maximum_weight**2)\n",
    "bqm[\"slack\"].relabel_variables({i: f\"x_{i}\" for i in range(bqm[\"slack\"].num_variables)})\n",
    "# -----------  UNBALANCED METHOD -----------\n",
    "lagrange_multiplier = [0.96, 0.0371]  # Again values from the paper\n",
    "bqm[\"unbalanced\"] = dimod.BQM.from_qubo(Q)  # This adds the objective function to the model\n",
    "bqm[\"unbalanced\"].add_linear_inequality_constraint(\n",
    "    [(n, i) for n, i in enumerate(weights_list)],  # This adds the constraint\n",
    "    lagrange_multiplier,\n",
    "    \"unbalanced\",\n",
    "    ub=maximum_weight,\n",
    "    penalization_method=\"unbalanced\",\n",
    ")\n",
    "bqm[\"unbalanced\"].relabel_variables({i: f\"x_{i}\" for i in range(bqm[\"unbalanced\"].num_variables)})\n",
    "\n",
    "# If you have an account you can execute the following code, otherwise read the file.\n",
    "account = False\n",
    "df = {}\n",
    "if account:\n",
    "    # Replace with your client information\n",
    "    sampler = DWaveSampler(region=\"eu-central-1\")\n",
    "    sampler_qpu = EmbeddingComposite(sampler)\n",
    "    for method in [\"slack\", \"unbalanced\"]:\n",
    "        samples = sampler_qpu.sample(bqm[method], num_reads=5000)  # Executing on real hardware\n",
    "        df[method] = (\n",
    "            samples.to_pandas_dataframe().sort_values(\"energy\").reset_index(drop=True)\n",
    "        )  # Converting the sampling information and sort it by cost\n",
    "        df[method].to_json(f\"QUBO/dwave_results_{method}.json\")  # save the results\n",
    "else:\n",
    "    df = {}\n",
    "    for method in [\"slack\", \"unbalanced\"]:\n",
    "        df[method] = pd.read_json(f\"QUBO/dwave_results_{method}.json\")\n",
    "        # Loading the data from an execution on D-Wave Advantage\n",
    "\n",
    "\n",
    "samples_dwave = {}\n",
    "values = {}\n",
    "for method in [\"slack\", \"unbalanced\"]:\n",
    "    samples_dwave[method] = defaultdict(int)\n",
    "    for i, row in df[method].iterrows():\n",
    "        # Postprocessing the information\n",
    "        sample_i = \"\".join(str(round(row[q])) for q in bqm[method].variables)\n",
    "        samples_dwave[method][sample_i] += row[\"num_occurrences\"]\n",
    "    values[method] = {\n",
    "        sum_values(sample_i, values_list): count\n",
    "        for sample_i, count in samples_dwave[method].items()\n",
    "        if sum_weight(sample_i, weights_list) <= maximum_weight\n",
    "    }"
   ],
   "id": "cd89e16d76e93f58",
   "outputs": [
    {
     "ename": "ModuleNotFoundError",
     "evalue": "No module named 'dwave'",
     "output_type": "error",
     "traceback": [
      "\u001B[1;31m---------------------------------------------------------------------------\u001B[0m",
      "\u001B[1;31mModuleNotFoundError\u001B[0m                       Traceback (most recent call last)",
      "Cell \u001B[1;32mIn[12], line 1\u001B[0m\n\u001B[1;32m----> 1\u001B[0m \u001B[38;5;28;01mfrom\u001B[39;00m\u001B[38;5;250m \u001B[39m\u001B[38;5;21;01mdwave\u001B[39;00m\u001B[38;5;21;01m.\u001B[39;00m\u001B[38;5;21;01msystem\u001B[39;00m\u001B[38;5;250m \u001B[39m\u001B[38;5;28;01mimport\u001B[39;00m DWaveSampler, EmbeddingComposite\n\u001B[0;32m      2\u001B[0m \u001B[38;5;28;01mfrom\u001B[39;00m\u001B[38;5;250m \u001B[39m\u001B[38;5;21;01mdwave\u001B[39;00m\u001B[38;5;21;01m.\u001B[39;00m\u001B[38;5;21;01mcloud\u001B[39;00m\u001B[38;5;250m \u001B[39m\u001B[38;5;28;01mimport\u001B[39;00m Client\n\u001B[0;32m      3\u001B[0m \u001B[38;5;28;01mimport\u001B[39;00m\u001B[38;5;250m \u001B[39m\u001B[38;5;21;01mdimod\u001B[39;00m\n",
      "\u001B[1;31mModuleNotFoundError\u001B[0m: No module named 'dwave'"
     ]
    }
   ],
   "execution_count": 12
  },
  {
   "metadata": {
    "ExecuteTime": {
     "end_time": "2025-06-14T20:53:10.769820Z",
     "start_time": "2025-06-14T20:53:10.418277Z"
    }
   },
   "cell_type": "code",
   "source": [
    "fig, ax = plt.subplots()\n",
    "bins = {\"unbalanced\": 5, \"slack\": 40}\n",
    "for method in [\"unbalanced\", \"slack\"]:\n",
    "    ax.hist(\n",
    "        values[method].keys(),\n",
    "        weights=values[method].values(),\n",
    "        bins=bins[method],\n",
    "        edgecolor=\"black\",\n",
    "        label=method,\n",
    "        align=\"right\",\n",
    "    )\n",
    "ax.vlines(-min_cost, 0, 5000, linestyle=\"--\", color=\"black\", label=\"Optimal\", linewidth=2)\n",
    "ax.set_yscale(\"log\")\n",
    "ax.legend()\n",
    "ax.set_ylabel(\"counts\")\n",
    "ax.set_xlabel(\"value\")\n",
    "fig.show()"
   ],
   "id": "98a1c1b0f8ad9eac",
   "outputs": [
    {
     "ename": "NameError",
     "evalue": "name 'values' is not defined",
     "output_type": "error",
     "traceback": [
      "\u001B[1;31m---------------------------------------------------------------------------\u001B[0m",
      "\u001B[1;31mNameError\u001B[0m                                 Traceback (most recent call last)",
      "Cell \u001B[1;32mIn[13], line 5\u001B[0m\n\u001B[0;32m      2\u001B[0m bins \u001B[38;5;241m=\u001B[39m {\u001B[38;5;124m\"\u001B[39m\u001B[38;5;124munbalanced\u001B[39m\u001B[38;5;124m\"\u001B[39m: \u001B[38;5;241m5\u001B[39m, \u001B[38;5;124m\"\u001B[39m\u001B[38;5;124mslack\u001B[39m\u001B[38;5;124m\"\u001B[39m: \u001B[38;5;241m40\u001B[39m}\n\u001B[0;32m      3\u001B[0m \u001B[38;5;28;01mfor\u001B[39;00m method \u001B[38;5;129;01min\u001B[39;00m [\u001B[38;5;124m\"\u001B[39m\u001B[38;5;124munbalanced\u001B[39m\u001B[38;5;124m\"\u001B[39m, \u001B[38;5;124m\"\u001B[39m\u001B[38;5;124mslack\u001B[39m\u001B[38;5;124m\"\u001B[39m]:\n\u001B[0;32m      4\u001B[0m     ax\u001B[38;5;241m.\u001B[39mhist(\n\u001B[1;32m----> 5\u001B[0m         \u001B[43mvalues\u001B[49m[method]\u001B[38;5;241m.\u001B[39mkeys(),\n\u001B[0;32m      6\u001B[0m         weights\u001B[38;5;241m=\u001B[39mvalues[method]\u001B[38;5;241m.\u001B[39mvalues(),\n\u001B[0;32m      7\u001B[0m         bins\u001B[38;5;241m=\u001B[39mbins[method],\n\u001B[0;32m      8\u001B[0m         edgecolor\u001B[38;5;241m=\u001B[39m\u001B[38;5;124m\"\u001B[39m\u001B[38;5;124mblack\u001B[39m\u001B[38;5;124m\"\u001B[39m,\n\u001B[0;32m      9\u001B[0m         label\u001B[38;5;241m=\u001B[39mmethod,\n\u001B[0;32m     10\u001B[0m         align\u001B[38;5;241m=\u001B[39m\u001B[38;5;124m\"\u001B[39m\u001B[38;5;124mright\u001B[39m\u001B[38;5;124m\"\u001B[39m,\n\u001B[0;32m     11\u001B[0m     )\n\u001B[0;32m     12\u001B[0m ax\u001B[38;5;241m.\u001B[39mvlines(\u001B[38;5;241m-\u001B[39mmin_cost, \u001B[38;5;241m0\u001B[39m, \u001B[38;5;241m5000\u001B[39m, linestyle\u001B[38;5;241m=\u001B[39m\u001B[38;5;124m\"\u001B[39m\u001B[38;5;124m--\u001B[39m\u001B[38;5;124m\"\u001B[39m, color\u001B[38;5;241m=\u001B[39m\u001B[38;5;124m\"\u001B[39m\u001B[38;5;124mblack\u001B[39m\u001B[38;5;124m\"\u001B[39m, label\u001B[38;5;241m=\u001B[39m\u001B[38;5;124m\"\u001B[39m\u001B[38;5;124mOptimal\u001B[39m\u001B[38;5;124m\"\u001B[39m, linewidth\u001B[38;5;241m=\u001B[39m\u001B[38;5;241m2\u001B[39m)\n\u001B[0;32m     13\u001B[0m ax\u001B[38;5;241m.\u001B[39mset_yscale(\u001B[38;5;124m\"\u001B[39m\u001B[38;5;124mlog\u001B[39m\u001B[38;5;124m\"\u001B[39m)\n",
      "\u001B[1;31mNameError\u001B[0m: name 'values' is not defined"
     ]
    },
    {
     "data": {
      "text/plain": [
       "<Figure size 640x480 with 1 Axes>"
      ],
      "image/png": "[encoded data removed]"
     },
     "metadata": {},
     "output_type": "display_data"
    }
   ],
   "execution_count": 13
  },
  {
   "metadata": {
    "ExecuteTime": {
     "end_time": "2025-06-23T17:28:02.484785Z",
     "start_time": "2025-06-23T17:27:57.923575Z"
    }
   },
   "cell_type": "code",
   "source": [
    "import matplotlib.pyplot as plt\n",
    "import pandas as pd\n",
    "\n",
    "# Dane\n",
    "data = {\n",
    "    \"date\": [\n",
    "        \"21.03.2025\", \"24.03.2025\", \"26.03.2025\", \"03.04.2025\", \"04.04.2025\",\n",
    "        \"07.04.2025\", \"08.04.2025\", \"08.05.2025\", \"15.05.2025\", \"31.05.2025\",\n",
    "        \"05.06.2025\", \"20.06.2025\", \"22.06.2025\"\n",
    "    ],\n",
    "    \"value\": [\n",
    "        72.1, 71.95, 72.25, 70.55, 71, 72.5, 73.4, 72.79, 69.7,\n",
    "        72.9, 71.9, 74, 72\n",
    "    ]\n",
    "}\n",
    "\n",
    "# Tworzenie DataFrame i konwersja dat\n",
    "df = pd.DataFrame(data)\n",
    "df[\"date\"] = pd.to_datetime(df[\"date\"], format=\"%d.%m.%Y\")\n",
    "\n",
    "# Sortowanie dat (na wszelki wypadek)\n",
    "df = df.sort_values(\"date\")\n",
    "\n",
    "# Wykres\n",
    "plt.figure(figsize=(10, 5))\n",
    "plt.plot(df[\"date\"], df[\"value\"], marker='o', linestyle='-')\n",
    "plt.title(\"Wartości w czasie\")\n",
    "plt.xlabel(\"Data\")\n",
    "plt.ylabel(\"Wartość\")\n",
    "plt.grid(True)\n",
    "plt.xticks(rotation=45)\n",
    "plt.tight_layout()\n",
    "plt.show()\n"
   ],
   "id": "c4808cb80a776cc3",
   "outputs": [
    {
     "data": {
      "text/plain": [
       "<Figure size 1000x500 with 1 Axes>"
      ],
      "image/png": "[encoded data removed]"
     },
     "metadata": {},
     "output_type": "display_data"
    }
   ],
   "execution_count": 1
  },
  {
   "metadata": {
    "ExecuteTime": {
     "end_time": "2025-06-24T19:35:29.330307Z",
     "start_time": "2025-06-24T19:35:28.664180Z"
    }
   },
   "cell_type": "code",
   "source": [
    "import sympy as sp\n",
    "\n",
    "L = range(3)\n",
    "M = range(2)\n",
    "P1 = sp.symbols('P1')\n",
    "\n",
    "x = sp.Matrix([[sp.symbols(f'x_{i+1}{n+1}') for n in M] for i in L])\n",
    "\n",
    "penalty = 0\n",
    "for n in M:\n",
    "    expr = sum(x[i, n] for i in L) - 1\n",
    "    penalty += P1 * expr**2\n",
    "\n",
    "print(sp.expand(penalty))"
   ],
   "id": "56197a35e1b87d1f",
   "outputs": [
    {
     "name": "stdout",
     "output_type": "stream",
     "text": [
      "P1*x_11**2 + 2*P1*x_11*x_21 + 2*P1*x_11*x_31 - 2*P1*x_11 + P1*x_12**2 + 2*P1*x_12*x_22 + 2*P1*x_12*x_32 - 2*P1*x_12 + P1*x_21**2 + 2*P1*x_21*x_31 - 2*P1*x_21 + P1*x_22**2 + 2*P1*x_22*x_32 - 2*P1*x_22 + P1*x_31**2 - 2*P1*x_31 + P1*x_32**2 - 2*P1*x_32 + 2*P1\n"
     ]
    }
   ],
   "execution_count": 1
  },
  {
   "metadata": {
    "ExecuteTime": {
     "end_time": "2025-06-25T12:29:05.506883Z",
     "start_time": "2025-06-25T12:29:05.477322Z"
    }
   },
   "cell_type": "code",
   "source": [
    "import sympy as sp\n",
    "\n",
    "l, m = 3, 4  # liczby lokalizacji i mieszkańców\n",
    "x = sp.Matrix([[sp.Symbol(f'x_{i}_{n}', integer=True) for n in range(m)] for i in range(l)])\n",
    "\n",
    "r = sp.Matrix([[sp.Symbol(f'r_{i}_{n}') for n in range(m)] for i in range(l)])\n",
    "c = sp.Matrix([sp.Symbol(f'c_{i}') for i in range(l)])\n",
    "\n",
    "# Wyrażenie celu\n",
    "objective = sum(r[i, n] * x[i, n] + c[i] * x[i, n] for i in range(l) for n in range(m))\n",
    "objective = sp.expand(objective)\n",
    "objective"
   ],
   "id": "8bd68d68dc46160a",
   "outputs": [
    {
     "data": {
      "text/plain": [
       "c_0*x_0_0 + c_0*x_0_1 + c_0*x_0_2 + c_0*x_0_3 + c_1*x_1_0 + c_1*x_1_1 + c_1*x_1_2 + c_1*x_1_3 + c_2*x_2_0 + c_2*x_2_1 + c_2*x_2_2 + c_2*x_2_3 + r_0_0*x_0_0 + r_0_1*x_0_1 + r_0_2*x_0_2 + r_0_3*x_0_3 + r_1_0*x_1_0 + r_1_1*x_1_1 + r_1_2*x_1_2 + r_1_3*x_1_3 + r_2_0*x_2_0 + r_2_1*x_2_1 + r_2_2*x_2_2 + r_2_3*x_2_3"
      ],
      "text/latex": "$\\displaystyle c_{0} x_{0 0} + c_{0} x_{0 1} + c_{0} x_{0 2} + c_{0} x_{0 3} + c_{1} x_{1 0} + c_{1} x_{1 1} + c_{1} x_{1 2} + c_{1} x_{1 3} + c_{2} x_{2 0} + c_{2} x_{2 1} + c_{2} x_{2 2} + c_{2} x_{2 3} + r_{0 0} x_{0 0} + r_{0 1} x_{0 1} + r_{0 2} x_{0 2} + r_{0 3} x_{0 3} + r_{1 0} x_{1 0} + r_{1 1} x_{1 1} + r_{1 2} x_{1 2} + r_{1 3} x_{1 3} + r_{2 0} x_{2 0} + r_{2 1} x_{2 1} + r_{2 2} x_{2 2} + r_{2 3} x_{2 3}$"
     },
     "execution_count": 2,
     "metadata": {},
     "output_type": "execute_result"
    }
   ],
   "execution_count": 2
  },
  {
   "metadata": {},
   "cell_type": "code",
   "outputs": [],
   "execution_count": null,
   "source": "",
   "id": "a3a207d833a830a7"
  }
 ],
 "metadata": {
  "kernelspec": {
   "display_name": "Python 3",
   "language": "python",
   "name": "python3"
  },
  "language_info": {
   "codemirror_mode": {
    "name": "ipython",
    "version": 2
   },
   "file_extension": ".py",
   "mimetype": "text/x-python",
   "name": "python",
   "nbconvert_exporter": "python",
   "pygments_lexer": "ipython2",
   "version": "2.7.6"
  }
 },
 "nbformat": 4,
 "nbformat_minor": 5
}
